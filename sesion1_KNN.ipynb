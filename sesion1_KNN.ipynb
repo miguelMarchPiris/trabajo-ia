{
 "cells": [
  {
   "cell_type": "markdown",
   "metadata": {},
   "source": [
    "# Session 1 - Your \"first\" DataScience problem "
   ]
  },
  {
   "cell_type": "code",
   "execution_count": 1,
   "metadata": {},
   "outputs": [
    {
     "data": {
      "text/html": [
       "<style>.container { width:100% !important; }</style>"
      ],
      "text/plain": [
       "<IPython.core.display.HTML object>"
      ]
     },
     "metadata": {},
     "output_type": "display_data"
    }
   ],
   "source": [
    "# some imports\n",
    "\n",
    "from IPython.core.display import display, HTML\n",
    "display(HTML(\"<style>.container { width:100% !important; }</style>\"))\n",
    "\n",
    "# Python ≥3.5 is required\n",
    "import sys\n",
    "assert sys.version_info >= (3, 5)\n",
    " \n",
    "# Scikit-Learn ≥0.20 is required\n",
    "import sklearn\n",
    "assert sklearn.__version__ >= \"0.20\"\n",
    "\n",
    "# Common imports\n",
    "import numpy as np\n",
    "import os\n",
    "\n",
    "# to make this notebook's output stable across runs\n",
    "np.random.seed(42)\n",
    "\n",
    "# To plot pretty figures\n",
    "%matplotlib inline\n",
    "import matplotlib as mpl\n",
    "import matplotlib.pyplot as plt\n",
    "mpl.rc('axes', labelsize=14)\n",
    "mpl.rc('xtick', labelsize=12)\n",
    "mpl.rc('ytick', labelsize=12)\n",
    "plt.rc('font', size=12) \n",
    "plt.rc('figure', figsize = (12, 5))\n",
    "\n",
    "# Settings for the visualizations\n",
    "import seaborn as sns\n",
    "sns.set_style(\"whitegrid\")\n",
    "sns.set_context(\"notebook\", font_scale=1, rc={\"lines.linewidth\": 2,'font.family': [u'times']})\n",
    "\n",
    "import pandas as pd\n",
    "pd.set_option('display.max_rows', 25)\n",
    "pd.set_option('display.max_columns', 500)\n",
    "pd.set_option('display.max_colwidth', 50)\n",
    "\n",
    "# Ignore useless warnings (see SciPy issue #5998)\n",
    "import warnings\n",
    "warnings.filterwarnings(action=\"ignore\", message=\"^internal gelsd\")\n",
    "\n",
    "# create output folder\n",
    "if not os.path.exists('output'):\n",
    "    os.makedirs('output')\n",
    "if not os.path.exists('output/session1'):\n",
    "    os.makedirs('output/session1')"
   ]
  },
  {
   "cell_type": "code",
   "execution_count": 2,
   "metadata": {},
   "outputs": [],
   "source": [
    "## load data\n",
    "train_set = pd.read_csv('dataset/housing-snapshot/train_set.csv',index_col=0) \n",
    "test_set = pd.read_csv('dataset/housing-snapshot/test_set.csv',index_col=0) "
   ]
  },
  {
   "cell_type": "code",
   "execution_count": 3,
   "metadata": {},
   "outputs": [
    {
     "data": {
      "text/plain": [
       "(5432, 21)"
      ]
     },
     "execution_count": 3,
     "metadata": {},
     "output_type": "execute_result"
    }
   ],
   "source": [
    "train_set.shape"
   ]
  },
  {
   "cell_type": "code",
   "execution_count": 4,
   "metadata": {},
   "outputs": [
    {
     "name": "stdout",
     "output_type": "stream",
     "text": [
      "<class 'pandas.core.frame.DataFrame'>\n"
     ]
    },
    {
     "data": {
      "text/html": [
       "<div>\n",
       "<style scoped>\n",
       "    .dataframe tbody tr th:only-of-type {\n",
       "        vertical-align: middle;\n",
       "    }\n",
       "\n",
       "    .dataframe tbody tr th {\n",
       "        vertical-align: top;\n",
       "    }\n",
       "\n",
       "    .dataframe thead th {\n",
       "        text-align: right;\n",
       "    }\n",
       "</style>\n",
       "<table border=\"1\" class=\"dataframe\">\n",
       "  <thead>\n",
       "    <tr style=\"text-align: right;\">\n",
       "      <th></th>\n",
       "      <th>Suburb</th>\n",
       "      <th>Address</th>\n",
       "      <th>Rooms</th>\n",
       "      <th>Type</th>\n",
       "      <th>Price</th>\n",
       "      <th>Method</th>\n",
       "      <th>SellerG</th>\n",
       "      <th>Date</th>\n",
       "      <th>Distance</th>\n",
       "      <th>Postcode</th>\n",
       "      <th>Bedroom2</th>\n",
       "      <th>Bathroom</th>\n",
       "      <th>Car</th>\n",
       "      <th>Landsize</th>\n",
       "      <th>BuildingArea</th>\n",
       "      <th>YearBuilt</th>\n",
       "      <th>CouncilArea</th>\n",
       "      <th>Lattitude</th>\n",
       "      <th>Longtitude</th>\n",
       "      <th>Regionname</th>\n",
       "      <th>Propertycount</th>\n",
       "    </tr>\n",
       "    <tr>\n",
       "      <th>index</th>\n",
       "      <th></th>\n",
       "      <th></th>\n",
       "      <th></th>\n",
       "      <th></th>\n",
       "      <th></th>\n",
       "      <th></th>\n",
       "      <th></th>\n",
       "      <th></th>\n",
       "      <th></th>\n",
       "      <th></th>\n",
       "      <th></th>\n",
       "      <th></th>\n",
       "      <th></th>\n",
       "      <th></th>\n",
       "      <th></th>\n",
       "      <th></th>\n",
       "      <th></th>\n",
       "      <th></th>\n",
       "      <th></th>\n",
       "      <th></th>\n",
       "      <th></th>\n",
       "    </tr>\n",
       "  </thead>\n",
       "  <tbody>\n",
       "    <tr>\n",
       "      <th>0</th>\n",
       "      <td>Aberfeldie</td>\n",
       "      <td>241 Buckley St</td>\n",
       "      <td>4</td>\n",
       "      <td>h</td>\n",
       "      <td>1380000.0</td>\n",
       "      <td>VB</td>\n",
       "      <td>Nelson</td>\n",
       "      <td>12/08/2017</td>\n",
       "      <td>7.5</td>\n",
       "      <td>3040.0</td>\n",
       "      <td>4.0</td>\n",
       "      <td>2.0</td>\n",
       "      <td>2.0</td>\n",
       "      <td>766.0</td>\n",
       "      <td>NaN</td>\n",
       "      <td>NaN</td>\n",
       "      <td>Moonee Valley</td>\n",
       "      <td>-37.75595</td>\n",
       "      <td>144.90551</td>\n",
       "      <td>Western Metropolitan</td>\n",
       "      <td>1543.0</td>\n",
       "    </tr>\n",
       "    <tr>\n",
       "      <th>1</th>\n",
       "      <td>Northcote</td>\n",
       "      <td>67 Charles St</td>\n",
       "      <td>2</td>\n",
       "      <td>h</td>\n",
       "      <td>1100000.0</td>\n",
       "      <td>SP</td>\n",
       "      <td>Jellis</td>\n",
       "      <td>20/05/2017</td>\n",
       "      <td>5.5</td>\n",
       "      <td>3070.0</td>\n",
       "      <td>2.0</td>\n",
       "      <td>1.0</td>\n",
       "      <td>1.0</td>\n",
       "      <td>189.0</td>\n",
       "      <td>NaN</td>\n",
       "      <td>NaN</td>\n",
       "      <td>Darebin</td>\n",
       "      <td>-37.77670</td>\n",
       "      <td>144.99240</td>\n",
       "      <td>Northern Metropolitan</td>\n",
       "      <td>11364.0</td>\n",
       "    </tr>\n",
       "    <tr>\n",
       "      <th>2</th>\n",
       "      <td>Balwyn North</td>\n",
       "      <td>42 Maud St</td>\n",
       "      <td>3</td>\n",
       "      <td>h</td>\n",
       "      <td>1480000.0</td>\n",
       "      <td>PI</td>\n",
       "      <td>Jellis</td>\n",
       "      <td>15/10/2016</td>\n",
       "      <td>9.2</td>\n",
       "      <td>3104.0</td>\n",
       "      <td>3.0</td>\n",
       "      <td>1.0</td>\n",
       "      <td>4.0</td>\n",
       "      <td>605.0</td>\n",
       "      <td>116.0</td>\n",
       "      <td>1950.0</td>\n",
       "      <td>Boroondara</td>\n",
       "      <td>-37.79510</td>\n",
       "      <td>145.06960</td>\n",
       "      <td>Southern Metropolitan</td>\n",
       "      <td>7809.0</td>\n",
       "    </tr>\n",
       "    <tr>\n",
       "      <th>3</th>\n",
       "      <td>Brunswick</td>\n",
       "      <td>13 Percy St</td>\n",
       "      <td>3</td>\n",
       "      <td>h</td>\n",
       "      <td>1055000.0</td>\n",
       "      <td>S</td>\n",
       "      <td>Nelson</td>\n",
       "      <td>7/05/2016</td>\n",
       "      <td>5.2</td>\n",
       "      <td>3056.0</td>\n",
       "      <td>3.0</td>\n",
       "      <td>1.0</td>\n",
       "      <td>1.0</td>\n",
       "      <td>324.0</td>\n",
       "      <td>NaN</td>\n",
       "      <td>1930.0</td>\n",
       "      <td>Moreland</td>\n",
       "      <td>-37.76530</td>\n",
       "      <td>144.95860</td>\n",
       "      <td>Northern Metropolitan</td>\n",
       "      <td>11918.0</td>\n",
       "    </tr>\n",
       "    <tr>\n",
       "      <th>4</th>\n",
       "      <td>Templestowe Lower</td>\n",
       "      <td>253 Thompsons Rd</td>\n",
       "      <td>4</td>\n",
       "      <td>h</td>\n",
       "      <td>1000000.0</td>\n",
       "      <td>VB</td>\n",
       "      <td>hockingstuart</td>\n",
       "      <td>13/08/2016</td>\n",
       "      <td>13.8</td>\n",
       "      <td>3107.0</td>\n",
       "      <td>4.0</td>\n",
       "      <td>3.0</td>\n",
       "      <td>2.0</td>\n",
       "      <td>728.0</td>\n",
       "      <td>164.0</td>\n",
       "      <td>1970.0</td>\n",
       "      <td>Manningham</td>\n",
       "      <td>-37.76800</td>\n",
       "      <td>145.10270</td>\n",
       "      <td>Eastern Metropolitan</td>\n",
       "      <td>5420.0</td>\n",
       "    </tr>\n",
       "  </tbody>\n",
       "</table>\n",
       "</div>"
      ],
      "text/plain": [
       "                  Suburb           Address  Rooms Type      Price Method  \\\n",
       "index                                                                      \n",
       "0             Aberfeldie    241 Buckley St      4    h  1380000.0     VB   \n",
       "1              Northcote     67 Charles St      2    h  1100000.0     SP   \n",
       "2           Balwyn North        42 Maud St      3    h  1480000.0     PI   \n",
       "3              Brunswick       13 Percy St      3    h  1055000.0      S   \n",
       "4      Templestowe Lower  253 Thompsons Rd      4    h  1000000.0     VB   \n",
       "\n",
       "             SellerG        Date  Distance  Postcode  Bedroom2  Bathroom  Car  \\\n",
       "index                                                                           \n",
       "0             Nelson  12/08/2017       7.5    3040.0       4.0       2.0  2.0   \n",
       "1             Jellis  20/05/2017       5.5    3070.0       2.0       1.0  1.0   \n",
       "2             Jellis  15/10/2016       9.2    3104.0       3.0       1.0  4.0   \n",
       "3             Nelson   7/05/2016       5.2    3056.0       3.0       1.0  1.0   \n",
       "4      hockingstuart  13/08/2016      13.8    3107.0       4.0       3.0  2.0   \n",
       "\n",
       "       Landsize  BuildingArea  YearBuilt    CouncilArea  Lattitude  \\\n",
       "index                                                                \n",
       "0         766.0           NaN        NaN  Moonee Valley  -37.75595   \n",
       "1         189.0           NaN        NaN        Darebin  -37.77670   \n",
       "2         605.0         116.0     1950.0     Boroondara  -37.79510   \n",
       "3         324.0           NaN     1930.0       Moreland  -37.76530   \n",
       "4         728.0         164.0     1970.0     Manningham  -37.76800   \n",
       "\n",
       "       Longtitude             Regionname  Propertycount  \n",
       "index                                                    \n",
       "0       144.90551   Western Metropolitan         1543.0  \n",
       "1       144.99240  Northern Metropolitan        11364.0  \n",
       "2       145.06960  Southern Metropolitan         7809.0  \n",
       "3       144.95860  Northern Metropolitan        11918.0  \n",
       "4       145.10270   Eastern Metropolitan         5420.0  "
      ]
     },
     "execution_count": 4,
     "metadata": {},
     "output_type": "execute_result"
    }
   ],
   "source": [
    "print(type(train_set))\n",
    "train_set.head()"
   ]
  },
  {
   "cell_type": "markdown",
   "metadata": {},
   "source": [
    "## The problem\n",
    "The machine learning is to predict the house price, but before that it is imporntat to study the dataset and its features"
   ]
  },
  {
   "cell_type": "code",
   "execution_count": 5,
   "metadata": {},
   "outputs": [
    {
     "name": "stdout",
     "output_type": "stream",
     "text": [
      "There is 5432 samples\n",
      "Each sample has 21 features\n"
     ]
    }
   ],
   "source": [
    "# print the dataset size\n",
    "print(\"There is\", train_set.shape[0], \"samples\")\n",
    "print(\"Each sample has\", train_set.shape[1], \"features\")"
   ]
  },
  {
   "cell_type": "code",
   "execution_count": 6,
   "metadata": {
    "scrolled": true
   },
   "outputs": [
    {
     "data": {
      "text/html": [
       "<div>\n",
       "<style scoped>\n",
       "    .dataframe tbody tr th:only-of-type {\n",
       "        vertical-align: middle;\n",
       "    }\n",
       "\n",
       "    .dataframe tbody tr th {\n",
       "        vertical-align: top;\n",
       "    }\n",
       "\n",
       "    .dataframe thead th {\n",
       "        text-align: right;\n",
       "    }\n",
       "</style>\n",
       "<table border=\"1\" class=\"dataframe\">\n",
       "  <thead>\n",
       "    <tr style=\"text-align: right;\">\n",
       "      <th></th>\n",
       "      <th>Suburb</th>\n",
       "      <th>Address</th>\n",
       "      <th>Rooms</th>\n",
       "      <th>Type</th>\n",
       "      <th>Price</th>\n",
       "      <th>Method</th>\n",
       "      <th>SellerG</th>\n",
       "      <th>Date</th>\n",
       "      <th>Distance</th>\n",
       "      <th>Postcode</th>\n",
       "      <th>Bedroom2</th>\n",
       "      <th>Bathroom</th>\n",
       "      <th>Car</th>\n",
       "      <th>Landsize</th>\n",
       "      <th>BuildingArea</th>\n",
       "      <th>YearBuilt</th>\n",
       "      <th>CouncilArea</th>\n",
       "      <th>Lattitude</th>\n",
       "      <th>Longtitude</th>\n",
       "      <th>Regionname</th>\n",
       "      <th>Propertycount</th>\n",
       "    </tr>\n",
       "    <tr>\n",
       "      <th>index</th>\n",
       "      <th></th>\n",
       "      <th></th>\n",
       "      <th></th>\n",
       "      <th></th>\n",
       "      <th></th>\n",
       "      <th></th>\n",
       "      <th></th>\n",
       "      <th></th>\n",
       "      <th></th>\n",
       "      <th></th>\n",
       "      <th></th>\n",
       "      <th></th>\n",
       "      <th></th>\n",
       "      <th></th>\n",
       "      <th></th>\n",
       "      <th></th>\n",
       "      <th></th>\n",
       "      <th></th>\n",
       "      <th></th>\n",
       "      <th></th>\n",
       "      <th></th>\n",
       "    </tr>\n",
       "  </thead>\n",
       "  <tbody>\n",
       "    <tr>\n",
       "      <th>0</th>\n",
       "      <td>Aberfeldie</td>\n",
       "      <td>241 Buckley St</td>\n",
       "      <td>4</td>\n",
       "      <td>h</td>\n",
       "      <td>1380000.0</td>\n",
       "      <td>VB</td>\n",
       "      <td>Nelson</td>\n",
       "      <td>12/08/2017</td>\n",
       "      <td>7.5</td>\n",
       "      <td>3040.0</td>\n",
       "      <td>4.0</td>\n",
       "      <td>2.0</td>\n",
       "      <td>2.0</td>\n",
       "      <td>766.0</td>\n",
       "      <td>NaN</td>\n",
       "      <td>NaN</td>\n",
       "      <td>Moonee Valley</td>\n",
       "      <td>-37.75595</td>\n",
       "      <td>144.90551</td>\n",
       "      <td>Western Metropolitan</td>\n",
       "      <td>1543.0</td>\n",
       "    </tr>\n",
       "    <tr>\n",
       "      <th>1</th>\n",
       "      <td>Northcote</td>\n",
       "      <td>67 Charles St</td>\n",
       "      <td>2</td>\n",
       "      <td>h</td>\n",
       "      <td>1100000.0</td>\n",
       "      <td>SP</td>\n",
       "      <td>Jellis</td>\n",
       "      <td>20/05/2017</td>\n",
       "      <td>5.5</td>\n",
       "      <td>3070.0</td>\n",
       "      <td>2.0</td>\n",
       "      <td>1.0</td>\n",
       "      <td>1.0</td>\n",
       "      <td>189.0</td>\n",
       "      <td>NaN</td>\n",
       "      <td>NaN</td>\n",
       "      <td>Darebin</td>\n",
       "      <td>-37.77670</td>\n",
       "      <td>144.99240</td>\n",
       "      <td>Northern Metropolitan</td>\n",
       "      <td>11364.0</td>\n",
       "    </tr>\n",
       "    <tr>\n",
       "      <th>2</th>\n",
       "      <td>Balwyn North</td>\n",
       "      <td>42 Maud St</td>\n",
       "      <td>3</td>\n",
       "      <td>h</td>\n",
       "      <td>1480000.0</td>\n",
       "      <td>PI</td>\n",
       "      <td>Jellis</td>\n",
       "      <td>15/10/2016</td>\n",
       "      <td>9.2</td>\n",
       "      <td>3104.0</td>\n",
       "      <td>3.0</td>\n",
       "      <td>1.0</td>\n",
       "      <td>4.0</td>\n",
       "      <td>605.0</td>\n",
       "      <td>116.0</td>\n",
       "      <td>1950.0</td>\n",
       "      <td>Boroondara</td>\n",
       "      <td>-37.79510</td>\n",
       "      <td>145.06960</td>\n",
       "      <td>Southern Metropolitan</td>\n",
       "      <td>7809.0</td>\n",
       "    </tr>\n",
       "    <tr>\n",
       "      <th>3</th>\n",
       "      <td>Brunswick</td>\n",
       "      <td>13 Percy St</td>\n",
       "      <td>3</td>\n",
       "      <td>h</td>\n",
       "      <td>1055000.0</td>\n",
       "      <td>S</td>\n",
       "      <td>Nelson</td>\n",
       "      <td>7/05/2016</td>\n",
       "      <td>5.2</td>\n",
       "      <td>3056.0</td>\n",
       "      <td>3.0</td>\n",
       "      <td>1.0</td>\n",
       "      <td>1.0</td>\n",
       "      <td>324.0</td>\n",
       "      <td>NaN</td>\n",
       "      <td>1930.0</td>\n",
       "      <td>Moreland</td>\n",
       "      <td>-37.76530</td>\n",
       "      <td>144.95860</td>\n",
       "      <td>Northern Metropolitan</td>\n",
       "      <td>11918.0</td>\n",
       "    </tr>\n",
       "    <tr>\n",
       "      <th>4</th>\n",
       "      <td>Templestowe Lower</td>\n",
       "      <td>253 Thompsons Rd</td>\n",
       "      <td>4</td>\n",
       "      <td>h</td>\n",
       "      <td>1000000.0</td>\n",
       "      <td>VB</td>\n",
       "      <td>hockingstuart</td>\n",
       "      <td>13/08/2016</td>\n",
       "      <td>13.8</td>\n",
       "      <td>3107.0</td>\n",
       "      <td>4.0</td>\n",
       "      <td>3.0</td>\n",
       "      <td>2.0</td>\n",
       "      <td>728.0</td>\n",
       "      <td>164.0</td>\n",
       "      <td>1970.0</td>\n",
       "      <td>Manningham</td>\n",
       "      <td>-37.76800</td>\n",
       "      <td>145.10270</td>\n",
       "      <td>Eastern Metropolitan</td>\n",
       "      <td>5420.0</td>\n",
       "    </tr>\n",
       "  </tbody>\n",
       "</table>\n",
       "</div>"
      ],
      "text/plain": [
       "                  Suburb           Address  Rooms Type      Price Method  \\\n",
       "index                                                                      \n",
       "0             Aberfeldie    241 Buckley St      4    h  1380000.0     VB   \n",
       "1              Northcote     67 Charles St      2    h  1100000.0     SP   \n",
       "2           Balwyn North        42 Maud St      3    h  1480000.0     PI   \n",
       "3              Brunswick       13 Percy St      3    h  1055000.0      S   \n",
       "4      Templestowe Lower  253 Thompsons Rd      4    h  1000000.0     VB   \n",
       "\n",
       "             SellerG        Date  Distance  Postcode  Bedroom2  Bathroom  Car  \\\n",
       "index                                                                           \n",
       "0             Nelson  12/08/2017       7.5    3040.0       4.0       2.0  2.0   \n",
       "1             Jellis  20/05/2017       5.5    3070.0       2.0       1.0  1.0   \n",
       "2             Jellis  15/10/2016       9.2    3104.0       3.0       1.0  4.0   \n",
       "3             Nelson   7/05/2016       5.2    3056.0       3.0       1.0  1.0   \n",
       "4      hockingstuart  13/08/2016      13.8    3107.0       4.0       3.0  2.0   \n",
       "\n",
       "       Landsize  BuildingArea  YearBuilt    CouncilArea  Lattitude  \\\n",
       "index                                                                \n",
       "0         766.0           NaN        NaN  Moonee Valley  -37.75595   \n",
       "1         189.0           NaN        NaN        Darebin  -37.77670   \n",
       "2         605.0         116.0     1950.0     Boroondara  -37.79510   \n",
       "3         324.0           NaN     1930.0       Moreland  -37.76530   \n",
       "4         728.0         164.0     1970.0     Manningham  -37.76800   \n",
       "\n",
       "       Longtitude             Regionname  Propertycount  \n",
       "index                                                    \n",
       "0       144.90551   Western Metropolitan         1543.0  \n",
       "1       144.99240  Northern Metropolitan        11364.0  \n",
       "2       145.06960  Southern Metropolitan         7809.0  \n",
       "3       144.95860  Northern Metropolitan        11918.0  \n",
       "4       145.10270   Eastern Metropolitan         5420.0  "
      ]
     },
     "execution_count": 6,
     "metadata": {},
     "output_type": "execute_result"
    }
   ],
   "source": [
    "# print the top elements from the dataset\n",
    "train_set.head()"
   ]
  },
  {
   "cell_type": "code",
   "execution_count": 7,
   "metadata": {},
   "outputs": [
    {
     "name": "stdout",
     "output_type": "stream",
     "text": [
      "Numero de Nans en la columna BuildingArea:  2542 / 5432\n",
      "<class 'pandas.core.frame.DataFrame'>\n",
      "<class 'pandas.core.series.Series'>\n"
     ]
    }
   ],
   "source": [
    "print(\"Numero de Nans en la columna BuildingArea: \",train_set.shape[0]-train_set[\"BuildingArea\"].count(),\"/\",train_set.shape[0])\n",
    "print(type(train_set))\n",
    "print(type(train_set[\"BuildingArea\"]))\n"
   ]
  },
  {
   "cell_type": "code",
   "execution_count": 8,
   "metadata": {},
   "outputs": [],
   "source": [
    "# As it can be seen the database contains several features, some of them numerical and some of them are categorical.\n",
    "# It is important to check each of the to understand it."
   ]
  },
  {
   "cell_type": "code",
   "execution_count": 9,
   "metadata": {
    "scrolled": false
   },
   "outputs": [
    {
     "data": {
      "text/plain": [
       "Suburb            object\n",
       "Address           object\n",
       "Rooms              int64\n",
       "Type              object\n",
       "Price            float64\n",
       "Method            object\n",
       "SellerG           object\n",
       "Date              object\n",
       "Distance         float64\n",
       "Postcode         float64\n",
       "Bedroom2         float64\n",
       "Bathroom         float64\n",
       "Car              float64\n",
       "Landsize         float64\n",
       "BuildingArea     float64\n",
       "YearBuilt        float64\n",
       "CouncilArea       object\n",
       "Lattitude        float64\n",
       "Longtitude       float64\n",
       "Regionname        object\n",
       "Propertycount    float64\n",
       "dtype: object"
      ]
     },
     "execution_count": 9,
     "metadata": {},
     "output_type": "execute_result"
    }
   ],
   "source": [
    "# we can see the type of each features as follows\n",
    "train_set.dtypes"
   ]
  },
  {
   "cell_type": "code",
   "execution_count": 10,
   "metadata": {},
   "outputs": [
    {
     "data": {
      "text/html": [
       "<div>\n",
       "<style scoped>\n",
       "    .dataframe tbody tr th:only-of-type {\n",
       "        vertical-align: middle;\n",
       "    }\n",
       "\n",
       "    .dataframe tbody tr th {\n",
       "        vertical-align: top;\n",
       "    }\n",
       "\n",
       "    .dataframe thead th {\n",
       "        text-align: right;\n",
       "    }\n",
       "</style>\n",
       "<table border=\"1\" class=\"dataframe\">\n",
       "  <thead>\n",
       "    <tr style=\"text-align: right;\">\n",
       "      <th></th>\n",
       "      <th>Suburb</th>\n",
       "      <th>Address</th>\n",
       "      <th>Type</th>\n",
       "      <th>Method</th>\n",
       "      <th>SellerG</th>\n",
       "      <th>Date</th>\n",
       "      <th>CouncilArea</th>\n",
       "      <th>Regionname</th>\n",
       "    </tr>\n",
       "    <tr>\n",
       "      <th>index</th>\n",
       "      <th></th>\n",
       "      <th></th>\n",
       "      <th></th>\n",
       "      <th></th>\n",
       "      <th></th>\n",
       "      <th></th>\n",
       "      <th></th>\n",
       "      <th></th>\n",
       "    </tr>\n",
       "  </thead>\n",
       "  <tbody>\n",
       "    <tr>\n",
       "      <th>0</th>\n",
       "      <td>Aberfeldie</td>\n",
       "      <td>241 Buckley St</td>\n",
       "      <td>h</td>\n",
       "      <td>VB</td>\n",
       "      <td>Nelson</td>\n",
       "      <td>12/08/2017</td>\n",
       "      <td>Moonee Valley</td>\n",
       "      <td>Western Metropolitan</td>\n",
       "    </tr>\n",
       "    <tr>\n",
       "      <th>1</th>\n",
       "      <td>Northcote</td>\n",
       "      <td>67 Charles St</td>\n",
       "      <td>h</td>\n",
       "      <td>SP</td>\n",
       "      <td>Jellis</td>\n",
       "      <td>20/05/2017</td>\n",
       "      <td>Darebin</td>\n",
       "      <td>Northern Metropolitan</td>\n",
       "    </tr>\n",
       "    <tr>\n",
       "      <th>2</th>\n",
       "      <td>Balwyn North</td>\n",
       "      <td>42 Maud St</td>\n",
       "      <td>h</td>\n",
       "      <td>PI</td>\n",
       "      <td>Jellis</td>\n",
       "      <td>15/10/2016</td>\n",
       "      <td>Boroondara</td>\n",
       "      <td>Southern Metropolitan</td>\n",
       "    </tr>\n",
       "    <tr>\n",
       "      <th>3</th>\n",
       "      <td>Brunswick</td>\n",
       "      <td>13 Percy St</td>\n",
       "      <td>h</td>\n",
       "      <td>S</td>\n",
       "      <td>Nelson</td>\n",
       "      <td>7/05/2016</td>\n",
       "      <td>Moreland</td>\n",
       "      <td>Northern Metropolitan</td>\n",
       "    </tr>\n",
       "    <tr>\n",
       "      <th>4</th>\n",
       "      <td>Templestowe Lower</td>\n",
       "      <td>253 Thompsons Rd</td>\n",
       "      <td>h</td>\n",
       "      <td>VB</td>\n",
       "      <td>hockingstuart</td>\n",
       "      <td>13/08/2016</td>\n",
       "      <td>Manningham</td>\n",
       "      <td>Eastern Metropolitan</td>\n",
       "    </tr>\n",
       "  </tbody>\n",
       "</table>\n",
       "</div>"
      ],
      "text/plain": [
       "                  Suburb           Address Type Method        SellerG  \\\n",
       "index                                                                   \n",
       "0             Aberfeldie    241 Buckley St    h     VB         Nelson   \n",
       "1              Northcote     67 Charles St    h     SP         Jellis   \n",
       "2           Balwyn North        42 Maud St    h     PI         Jellis   \n",
       "3              Brunswick       13 Percy St    h      S         Nelson   \n",
       "4      Templestowe Lower  253 Thompsons Rd    h     VB  hockingstuart   \n",
       "\n",
       "             Date    CouncilArea             Regionname  \n",
       "index                                                    \n",
       "0      12/08/2017  Moonee Valley   Western Metropolitan  \n",
       "1      20/05/2017        Darebin  Northern Metropolitan  \n",
       "2      15/10/2016     Boroondara  Southern Metropolitan  \n",
       "3       7/05/2016       Moreland  Northern Metropolitan  \n",
       "4      13/08/2016     Manningham   Eastern Metropolitan  "
      ]
     },
     "execution_count": 10,
     "metadata": {},
     "output_type": "execute_result"
    }
   ],
   "source": [
    "# print those categorical features\n",
    "train_set.select_dtypes(include=['object']).head()"
   ]
  },
  {
   "cell_type": "code",
   "execution_count": 11,
   "metadata": {},
   "outputs": [
    {
     "name": "stdout",
     "output_type": "stream",
     "text": [
      "[3765 1191  476]\n"
     ]
    },
    {
     "data": {
      "text/plain": [
       "h    3765\n",
       "u    1191\n",
       "t     476\n",
       "Name: Type, dtype: int64"
      ]
     },
     "execution_count": 11,
     "metadata": {},
     "output_type": "execute_result"
    }
   ],
   "source": [
    "\n",
    "print(pd.Series.to_numpy(train_set[\"Type\"].value_counts()))\n",
    "# We can check how many different type there is in the dataset using the folliwing line\n",
    "train_set[\"Type\"].value_counts()\n"
   ]
  },
  {
   "cell_type": "code",
   "execution_count": 12,
   "metadata": {},
   "outputs": [
    {
     "data": {
      "text/plain": [
       "<AxesSubplot:xlabel='count', ylabel='Type'>"
      ]
     },
     "execution_count": 12,
     "metadata": {},
     "output_type": "execute_result"
    },
    {
     "data": {
      "image/png": "[encoded data removed]",
      "text/plain": [
       "<Figure size 864x360 with 1 Axes>"
      ]
     },
     "metadata": {},
     "output_type": "display_data"
    }
   ],
   "source": [
    "sns.countplot(y=\"Type\", data=train_set, color=\"c\")"
   ]
  },
  {
   "cell_type": "markdown",
   "metadata": {},
   "source": [
    "It would be interesting to visualize all features (numerical and catergorical) in order to undertand them.\n",
    "\n",
    "Check out this blog for plotting distribution: https://seaborn.pydata.org/tutorial/distributions.html\n",
    "+ Seaborn version of this blog can be different from the one intalled in your machine (version 0.11 has been just realeased)\n",
    "\n",
    "Check out this blog for plotting categorical data: https://seaborn.pydata.org/tutorial/categorical.html"
   ]
  },
  {
   "cell_type": "code",
   "execution_count": 13,
   "metadata": {
    "scrolled": false
   },
   "outputs": [
    {
     "name": "stderr",
     "output_type": "stream",
     "text": [
      "C:\\Users\\Miguel\\Anaconda3\\lib\\site-packages\\seaborn\\distributions.py:2551: FutureWarning: `distplot` is a deprecated function and will be removed in a future version. Please adapt your code to use either `displot` (a figure-level function with similar flexibility) or `histplot` (an axes-level function for histograms).\n",
      "  warnings.warn(msg, FutureWarning)\n"
     ]
    },
    {
     "data": {
      "image/png": "[encoded data removed]",
      "text/plain": [
       "<Figure size 864x360 with 1 Axes>"
      ]
     },
     "metadata": {},
     "output_type": "display_data"
    }
   ],
   "source": [
    "sns.distplot(train_set[\"Price\"])\n",
    "plt.show()"
   ]
  },
  {
   "cell_type": "code",
   "execution_count": 14,
   "metadata": {},
   "outputs": [],
   "source": [
    "b=np.array(train_set[\"BuildingArea\"])"
   ]
  },
  {
   "cell_type": "code",
   "execution_count": 15,
   "metadata": {},
   "outputs": [
    {
     "data": {
      "text/plain": [
       "index\n",
       "0         NaN\n",
       "1         NaN\n",
       "2       116.0\n",
       "3         NaN\n",
       "4       164.0\n",
       "        ...  \n",
       "5427      NaN\n",
       "5428     93.0\n",
       "5429      NaN\n",
       "5430     79.0\n",
       "5431    147.0\n",
       "Name: BuildingArea, Length: 5432, dtype: float64"
      ]
     },
     "execution_count": 15,
     "metadata": {},
     "output_type": "execute_result"
    }
   ],
   "source": [
    "b=train_set[\"BuildingArea\"].copy()\n",
    "train_set[\"BuildingArea\"]\n"
   ]
  },
  {
   "cell_type": "code",
   "execution_count": 16,
   "metadata": {},
   "outputs": [
    {
     "data": {
      "text/plain": [
       "<seaborn.axisgrid.JointGrid at 0x132e6af0a88>"
      ]
     },
     "execution_count": 16,
     "metadata": {},
     "output_type": "execute_result"
    },
    {
     "data": {
      "image/png": "[encoded data removed]",
      "text/plain": [
       "<Figure size 432x432 with 3 Axes>"
      ]
     },
     "metadata": {},
     "output_type": "display_data"
    }
   ],
   "source": [
    "sns.jointplot(data=train_set, x=\"BuildingArea\", y=\"Price\",kind=\"reg\",xlim=(0,1000),ylim=(0,6000000))"
   ]
  },
  {
   "cell_type": "markdown",
   "metadata": {},
   "source": [
    "## BASELINE MODEL\n",
    "### https://www.kaggle.com/c/mlub-housing-house-prediction/notebooks\n",
    "\n",
    "This is a simple model that uses the K-nearest Neighbors Regressor\n",
    "\n",
    "This model only uses 4 feaures: 'Rooms','Landsize', 'BuildingArea', 'YearBuilt'"
   ]
  },
  {
   "cell_type": "code",
   "execution_count": 17,
   "metadata": {},
   "outputs": [
    {
     "name": "stdout",
     "output_type": "stream",
     "text": [
      "<class 'sklearn.neighbors._regression.KNeighborsRegressor'>\n",
      "y_pred: \n",
      "(5432, 1)\n",
      "----- EVALUATION ON TRAIN SET ------\n",
      "RMSE 397813.8038017269\n",
      "R^2:  0.6219552116625728\n"
     ]
    },
    {
     "data": {
      "image/png": "[encoded data removed]",
      "text/plain": [
       "<Figure size 864x360 with 1 Axes>"
      ]
     },
     "metadata": {},
     "output_type": "display_data"
    }
   ],
   "source": [
    "## the features\n",
    "\n",
    "features = ['Rooms','Landsize', 'BuildingArea', 'YearBuilt']\n",
    "## DEFINE YOUR FEATURES\n",
    "X = train_set[features].fillna(0)\n",
    "y = train_set[['Price']]\n",
    "\n",
    "## the model\n",
    "# KNeighborsRegressor\n",
    "from sklearn import neighbors\n",
    "n_neighbors = 3 # you can modify this paramenter (ONLY THIS ONE!!!)\n",
    "model = neighbors.KNeighborsRegressor(n_neighbors)\n",
    "print(type(model))\n",
    "## fit the model\n",
    "model.fit(X, y)\n",
    "\n",
    "## predict training set\n",
    "y_pred = model.predict(X)\n",
    "print(\"y_pred: \")\n",
    "print(y_pred.shape)\n",
    "## Evaluate the model and plot it\n",
    "from sklearn.metrics import mean_squared_error, r2_score\n",
    "print(\"----- EVALUATION ON TRAIN SET ------\")\n",
    "#                  sum((y - y_pred)**2)/total\n",
    "print(\"RMSE\",np.sqrt(mean_squared_error(y, y_pred)))\n",
    "print(\"R^2: \",r2_score(y, y_pred))\n",
    "\n",
    "\n",
    "plt.scatter(y, y_pred)\n",
    "plt.xlabel('Price')\n",
    "plt.ylabel('Predicted price');\n",
    "plt.show()\n",
    "\n",
    "## predict the test set and generate the submission file\n",
    "X_test = test_set[features].fillna(0)\n",
    "y_pred = model.predict(X_test)\n",
    "\n",
    "df_output = pd.DataFrame(y_pred)\n",
    "df_output = df_output.reset_index()\n",
    "df_output.columns = ['index','Price']\n",
    "\n",
    "df_output.to_csv('output/session1/baseline.csv',index=False)"
   ]
  },
  {
   "cell_type": "markdown",
   "metadata": {},
   "source": [
    "## EXERCICE - TRAIN A MODEL and upload your best solution to the Kaggle Challenge\n",
    "\n",
    "Tasks: \n",
    "+ Choose the best features for the problem. Some features are numercial but others categorical, think how to codify all of them.\n",
    "+ Choose the model. You have two choice: LinearRegression and KNeighborsRegressor\n",
    "    + You can chanege the paramenter n_neighbors from the KNeighborsRegressor\n",
    "    \n",
    "LINEAR REGRESSOR:\n",
    ">from sklearn.linear_model import LinearRegression\n",
    "\n",
    ">model = LinearRegression()\n",
    "\n",
    "KNeighborsRegressor\n",
    "> from sklearn import neighbors\n",
    "\n",
    "> n_neighbors = 3 # you can modify this paramenter (ONLY THIS ONE!!!)\n",
    "\n",
    "> model = neighbors.KNeighborsRegressor(n_neighbors=n_neighbors)\n"
   ]
  },
  {
   "cell_type": "markdown",
   "metadata": {},
   "source": [
    "# Introduction:\n",
    "\n",
    "From now on, the cells below show the work I have done trying to get the best possible understanding of the problem and the best solution according to that understanding.\n",
    "\n",
    "### Aclarations:\n",
    "#### 1. Feature vs Column:\n",
    "I use indistinctly the words feature and column, since in DataFrames, each column represents one feature of the data.\n",
    "#### 2. Dummie:\n",
    "I use the word _dummie_ a lot, and it refers to the result of taking a categorical column and trying to represent it with 1's and 0's.\n",
    "You make a new column for every unique value in the original column, and each new column represents if the value in the row was that one (1) or was another one (0). \n",
    "\n",
    "Using this trick we can transform categorical features into numerical ones, at the cost of adding complexity to the model. (In the Knn we can talk directly about adding dimensions).\n",
    "\n",
    "##### Example:\n",
    "\n",
    "##### Original \"Type\":\n",
    "\n",
    "_Type_     \n",
    "        h<br>\n",
    "        t<br>\n",
    "        h<br>\n",
    "        u<br>\n",
    "        h<br>\n",
    "##### Dummies from \"Type\":\n",
    "_h   t   u_                    \n",
    "           1       0       0<br>\n",
    "           0       1       0<br>\n",
    "           1       0       0<br>\n",
    "           0       0       1<br>\n",
    "           1       0       0<br>\n"
   ]
  },
  {
   "cell_type": "markdown",
   "metadata": {},
   "source": [
    "## Preprocessing functions: "
   ]
  },
  {
   "cell_type": "code",
   "execution_count": 18,
   "metadata": {},
   "outputs": [],
   "source": [
    "def apply_numerical_preprocessing(df,num_features):\n",
    "    #Just applies the below functions to the numerical features.\n",
    "    fill_nan(df,num_features)\n",
    "    clean_outlayers(df,num_features)\n",
    "    normalize(df,num_features)\n",
    "def describe(df,num_features):\n",
    "    for f in num_features:\n",
    "        print(f+\": \")\n",
    "        print(df.loc[:,f].describe())\n",
    "        print()\n",
    "def clean_outlayers(df,num_features,q=0.01):\n",
    "    \"\"\"\n",
    "    I considered the outlayers anything below/above the 1/99 percentile.\n",
    "    I replaced them with those values so, even though I change them, they still\n",
    "    are in the extremes and the model takes that into account.\n",
    "    \n",
    "    This could work fine for the \"true\" outlayers, but if an outlayer was a typo mistake it could be a bad solution.\n",
    "    \"\"\"\n",
    "    for f in num_features:\n",
    "        q_high=df.loc[:,f].quantile(q=1-q)\n",
    "        q_low =df.loc[:,f].quantile(q=q)\n",
    "        arr_f=pd.Series.to_numpy(df.loc[:,f])\n",
    "        arr_f[arr_f>q_high]=q_high\n",
    "        arr_f[arr_f<q_low]=q_low\n",
    "        df.loc[:,f]=arr_f\n",
    "def fill_nan(df,num_features):\n",
    "    \"\"\"\n",
    "    First of all, I ONLY fill the nans in the numerical features.\n",
    "    \n",
    "    I decided trying both mean and median and median gave best results.\n",
    "    \n",
    "    The one thing about median that I like is that you are using a value that already exists in the dataset. \n",
    "    In the case of AreaBuilt it is not really a problem to use the mean, because there are a lot of different values\n",
    "    (I consider it a continuous variable), but in the case of Rooms, a discrete variable, it could lead to a new dicrete value (ex: 1.8 Rooms)\n",
    "    that did not exist previously and could potentially cause problems.\n",
    "    \n",
    "    Finally I made the Landsize feature to be filled with Zeros because it had sense that if a house did not had Landsize,\n",
    "    it just was left blank. (In the train_set there were no nans in the Landsize column, but I did realize that later).\n",
    "    \"\"\"\n",
    "    for f in num_features:\n",
    "        if(f=='Landsize'):\n",
    "            df.loc[:,f]=df.loc[:,f].fillna(value=0.)\n",
    "        else:\n",
    "            median=pd.Series.median(df.loc[:,f])\n",
    "            df.loc[:,f]=df.loc[:,f].fillna(value=median)\n",
    "def normalize(df,num_features):\n",
    "    \"\"\"\n",
    "    Just normalizing the values so that in the Knn every feature represented in a dimension had the same \"impact\" because of the distance. \n",
    "    \"\"\"\n",
    "    for f in num_features:\n",
    "        max_value=df.loc[:,f].max()\n",
    "        min_value=df.loc[:,f].min()\n",
    "        if(max_value-min_value != 0):\n",
    "            df.loc[:,f]=(df.loc[:,f]-min_value)/(max_value-min_value)\n",
    "        else:\n",
    "            #Just in case\n",
    "            df.loc[:,f]=df.loc[:,f]/(max_value)\n",
    "\n",
    "            \n",
    "def clean_dummies(df,selected_dummies):\n",
    "    \"\"\"\n",
    "    This function was meant to try and use only some values from the categorical features, but that did not end up giving a better result,\n",
    "    so finally it was not used.\n",
    "    \"\"\"\n",
    "    \n",
    "    #selected_dummies is a list of tuples in which for every element s\n",
    "    #s[0] is the name of a column.\n",
    "    #s[1] are the values selected for that column.\n",
    "    for s in selected_dummies:\n",
    "        col_name=s[0]\n",
    "        to_remove=df[col_name].unique().tolist()\n",
    "        for value in s[1]:\n",
    "            # We remove the values we want to keep from the to_remove list.\n",
    "            to_remove.remove(value)\n",
    "        #Every value in the to_remove list is replaced with a nan (so it is easier to make dummies of the column)\n",
    "        df[col_name]=df[col_name].replace(to_replace=to_remove,value=np.nan)\n",
    "\n",
    "def make_dummies(df,cat_features):\n",
    "    \"\"\"\n",
    "    Function to make the \"Dummies\". \n",
    "    This will transform each categorical feature into a lot of numerical features. (One for every unique value).\n",
    "    \"\"\"\n",
    "    for f in cat_features:\n",
    "        dummies = pd.get_dummies(df[f],prefix=f, dummy_na=False)\n",
    "        df = df.drop(f,1)\n",
    "        df = pd.concat([df,dummies], axis=1 )\n",
    "    return df\n",
    "def get_dummies_names(df, cat_features):\n",
    "    \"\"\"\n",
    "    Returns a list with the name of the dummies made in the make_dummies() function.\n",
    "    \"\"\"\n",
    "    dummies=[]\n",
    "    for cat in cat_features:\n",
    "        for col in df.columns:\n",
    "            if cat in col:\n",
    "                dummies.append(col)\n",
    "    return dummies\n",
    "def clean_zeros_for_log(df,num_features):\n",
    "    \"\"\"\n",
    "    For cleaning the Zeros I tried to maintain something reasonable for the different num characteristics.\n",
    "    I wanted it to be the least \"Hardcoded\" posible solution, so that it didn't depend a lot on the guessing.\n",
    "    I tried to avoid adding just a 0.1, because it can be very different for different data entries.\n",
    "    \n",
    "    Finally I decided that all the Zeros could be replaced with a value smallest than the 1 percentil (without the Zeros),\n",
    "    so i tried that *0.1 and it worked fine and consistent. \n",
    "    I know my solution it still is kind of hardcoded but depends much more on the data than just an addition.\n",
    "    \"\"\"\n",
    "    for f in num_features:\n",
    "        if(0 in df[f].unique()):\n",
    "            df[f]=df[f].replace(to_replace=0,value=np.nan)\n",
    "            q=df[f].quantile(q=0.01)\n",
    "            df[f]=df[f].replace(to_replace=np.nan,value=q*0.1)\n",
    "            #df[f]=df[f].replace(to_replace=np.nan,value=q)\n",
    "def apply_log(df,log_features):\n",
    "    \"\"\"To apply the Log to some of the numerical features first I had to do some preprocessing:\n",
    "    \n",
    "    First we fill the nan values with something reasonable (mean/median).\n",
    "    \n",
    "    Afterwards we want the outlayers to disappear.\n",
    "    \n",
    "    Then we need to ensure there are no Zeros or negative numbers, because the Log function is only defined in the positive domain.\n",
    "    (In this implementation I don't care of the negative numbers because I was not going to use any variable with posible negative values)\n",
    "    \n",
    "    Later we apply the Log function.\n",
    "    \n",
    "    Last but not least, we normalize the results.\n",
    "    \n",
    "    \"\"\"\n",
    "    fill_nan(df,log_features)\n",
    "    clean_outlayers(df,log_features)\n",
    "    clean_zeros_for_log(df,log_features)\n",
    "    for f in log_features:\n",
    "        df[f]=np.log(df.loc[:,f])\n",
    "    normalize(df,log_features)"
   ]
  },
  {
   "cell_type": "markdown",
   "metadata": {},
   "source": [
    "## Plots\n",
    "I have used the recomended seaborn library for the plots, since it is very easy to use and very powerful."
   ]
  },
  {
   "cell_type": "code",
   "execution_count": 19,
   "metadata": {},
   "outputs": [
    {
     "data": {
      "text/plain": [
       "<seaborn.axisgrid.JointGrid at 0x132eb9bf548>"
      ]
     },
     "execution_count": 19,
     "metadata": {},
     "output_type": "execute_result"
    },
    {
     "data": {
      "image/png": "[encoded data removed]",
      "text/plain": [
       "<Figure size 432x432 with 3 Axes>"
      ]
     },
     "metadata": {},
     "output_type": "display_data"
    }
   ],
   "source": [
    "\n",
    "#Useful to visualize the relation of categorical features and the price.\n",
    "#sns.catplot(x=\"Type\", y=\"Price\", kind=\"box\", data=train_set)\n",
    "#Useful to visualize the relation of numerical features and the price. It even does a regression line, the blue line in the plot.\n",
    "sns.jointplot(data=train_set, x=\"BuildingArea\", y=\"Price\",kind=\"reg\",xlim=(0,1000))#,ylim=(0,6000000))"
   ]
  },
  {
   "cell_type": "markdown",
   "metadata": {},
   "source": [
    "## Trying Selected Dummies\n",
    "The below cell was an attempt to try and get which categorical variables could be worth considering.\n",
    "The idea was that there are a lot of categorical features which have lots of diferent values and making \n",
    "hundreds of diferent Dummie features was not an option because it would result in too many dimensions. \n",
    "So maybe I could choose only the values of those categorical features that had a significant deviation \n",
    "from the mean and let the other values without any Dummies.\n",
    "\n",
    "This piece of code was meant to get an idea of which ones could be a good starting point, but finally \n",
    "I *DID NOT* put it in the final version. (It simply gave worst results)"
   ]
  },
  {
   "cell_type": "code",
   "execution_count": 20,
   "metadata": {},
   "outputs": [
    {
     "name": "stdout",
     "output_type": "stream",
     "text": [
      "(292,)\n",
      "_________ Suburb __________\n",
      "            Diff          Nombre\n",
      "1   14097.771426  Bentleigh East\n",
      "0 -389612.892910       Reservoir\n",
      "            Diff          Nombre\n",
      "0 -389612.892910       Reservoir\n",
      "1   14097.771426  Bentleigh East\n",
      "(3,)\n",
      "_________ Type __________\n",
      "            Diff Nombre\n",
      "0  166281.309152      h\n",
      "2 -117780.145510      t\n",
      "1 -478577.480851      u\n",
      "            Diff Nombre\n",
      "1 -478577.480851      u\n",
      "2 -117780.145510      t\n",
      "0  166281.309152      h\n",
      "(203,)\n",
      "_________ SellerG __________\n",
      "             Diff     Nombre\n",
      "6   839235.898362   Marshall\n",
      "1   282683.528250     Jellis\n",
      "10  193893.162146  Fletchers\n",
      "            Diff Nombre\n",
      "4 -271652.514990   Brad\n",
      "3 -213623.262428  Barry\n",
      "9 -211943.536267    Ray\n",
      "(187,)\n",
      "_________ Postcode __________\n",
      "           Diff  Nombre\n",
      "0  21567.049099  3040.0\n",
      "5  14097.771426  3165.0\n",
      "6 -55844.445357  3121.0\n",
      "            Diff  Nombre\n",
      "2 -420629.544267  3020.0\n",
      "4 -389612.892910  3073.0\n",
      "7 -344702.536267  3012.0\n",
      "(32,)\n",
      "_________ CouncilArea __________\n",
      "             Diff       Nombre\n",
      "17  582944.303306      Bayside\n",
      "2   559746.500097   Boroondara\n",
      "6   260547.368663  Stonnington\n",
      "             Diff       Nombre\n",
      "5  -424550.547440     Brimbank\n",
      "15 -260973.321213  Maribyrnong\n",
      "3  -245917.292846     Moreland\n",
      "(289,)\n",
      "_________ Propertycount __________\n",
      "            Diff   Nombre\n",
      "2   14097.771426  10969.0\n",
      "0 -241686.799832   8870.0\n",
      "1 -389612.892910  21650.0\n",
      "            Diff   Nombre\n",
      "1 -389612.892910  21650.0\n",
      "0 -241686.799832   8870.0\n",
      "2   14097.771426  10969.0\n"
     ]
    },
    {
     "data": {
      "text/plain": [
       "[('Suburb', ['Bentleigh East', 'Reservoir']),\n",
       " ('Type', ['h', 't', 'u']),\n",
       " ('SellerG', ['Marshall', 'Jellis', 'Fletchers']),\n",
       " ('Postcode', [3040.0, 3165.0, 3121.0]),\n",
       " ('CouncilArea', ['Bayside', 'Boroondara', 'Stonnington']),\n",
       " ('Propertycount', [10969.0, 8870.0, 21650.0])]"
      ]
     },
     "execution_count": 20,
     "metadata": {},
     "output_type": "execute_result"
    }
   ],
   "source": [
    "relevantes=[]\n",
    "\n",
    "#All categorical features\n",
    "all_cate=['Suburb', 'Address', 'Type', 'Method', 'SellerG', 'Date', 'CouncilArea','Regionname']\n",
    "#Cate is just to select the ones I want to visualize\n",
    "cate=['Suburb',  'Type','SellerG', 'Postcode', 'CouncilArea', 'Propertycount']\n",
    "for f in cate:\n",
    "    rel=[]\n",
    "    da=train_set.copy()\n",
    "    columna=f\n",
    "    price_mean=train_set.loc[:,\"Price\"].mean()\n",
    "    col=da.loc[:,[columna,\"Price\"]]\n",
    "    # Arbitrary number to get something that was at least a considerable number of samples\n",
    "    num=100\n",
    "    value_counts=col[columna].value_counts()\n",
    "    print(value_counts.shape)\n",
    "    #value_counts.drop(labels=value_counts.loc[value_counts<num].index,axis=\"index\")\n",
    "    #Drop the \n",
    "    index=value_counts.loc[value_counts<num].index\n",
    "    for ind in index:\n",
    "        drop_index=col[col[columna]==ind].index\n",
    "        col=col.drop(labels=drop_index,axis=\"index\")\n",
    "    col.count()\n",
    "    col.loc[:,\"Price\"]=col.loc[:,\"Price\"]-price_mean\n",
    "    #col.head(20)\n",
    "    \n",
    "    #sns.catplot(x=f, y=\"Price\", kind=\"box\", data=col)\n",
    "\n",
    "    nombre=[]\n",
    "    diferencia=[]\n",
    "    for cat in col.loc[:,columna].unique():\n",
    "        nombre.append\n",
    "        index_suburb=col[col[columna]==cat].index\n",
    "        mean_diff = col.loc[index_suburb,\"Price\"].mean()\n",
    "\n",
    "        nombre.append(cat)\n",
    "        diferencia.append(mean_diff)\n",
    "    #Here we have a new DataFrame with the name of every value in the Categorical Feature and the difference of means.\n",
    "    df_diff=pd.DataFrame({\n",
    "        \"Diff\":np.array(diferencia,dtype=np.float64),\n",
    "        \"Nombre\":nombre\n",
    "    })\n",
    "    #df_diff.loc[:,\"Diff\"]=pd.DataFrame.abs(df_diff.loc[:,\"Diff\"])\n",
    "    print(\"_________\",f,\"__________\")\n",
    "    df_diff_aux=df_diff.sort_values(by=\"Diff\",ascending=False).head(3)\n",
    "    print(df_diff_aux)\n",
    "    relevantes.append((f,df_diff_aux.loc[:,\"Nombre\"].tolist()))\n",
    "    df_diff_aux=df_diff.sort_values(by=\"Diff\",ascending=True).head(3)\n",
    "    print(df_diff_aux)\n",
    "    #relevantes.append((f,df_diff_aux.loc[:,\"Nombre\"].tolist()))\n",
    "relevantes"
   ]
  },
  {
   "cell_type": "code",
   "execution_count": 21,
   "metadata": {},
   "outputs": [
    {
     "data": {
      "text/plain": [
       "<seaborn.axisgrid.FacetGrid at 0x132ef8f63c8>"
      ]
     },
     "execution_count": 21,
     "metadata": {},
     "output_type": "execute_result"
    },
    {
     "data": {
      "image/png": "[encoded data removed]",
      "text/plain": [
       "<Figure size 360x360 with 1 Axes>"
      ]
     },
     "metadata": {},
     "output_type": "display_data"
    }
   ],
   "source": [
    "sns.catplot(x=\"Type\", y=\"Price\", kind=\"box\", data=train_set)"
   ]
  },
  {
   "cell_type": "code",
   "execution_count": 22,
   "metadata": {},
   "outputs": [
    {
     "name": "stdout",
     "output_type": "stream",
     "text": [
      "__________Suburb___________\n",
      "Number of unique values:  292\n",
      "MOST POPULAR: \n",
      "Reservoir         143\n",
      "Bentleigh East    104\n",
      "Richmond           96\n",
      "Preston            96\n",
      "Brunswick          94\n",
      "Essendon           93\n",
      "Hawthorn           85\n",
      "Glen Iris          83\n",
      "Brighton           81\n",
      "Coburg             78\n",
      "Name: Suburb, dtype: int64\n",
      "\n",
      "__________Type___________\n",
      "Number of unique values:  3\n",
      "MOST POPULAR: \n",
      "h    3765\n",
      "u    1191\n",
      "t     476\n",
      "Name: Type, dtype: int64\n",
      "\n",
      "__________SellerG___________\n",
      "Number of unique values:  203\n",
      "MOST POPULAR: \n",
      "Nelson           603\n",
      "Jellis           527\n",
      "hockingstuart    478\n",
      "Barry            409\n",
      "Ray              300\n",
      "Marshall         283\n",
      "Buxton           239\n",
      "Biggin           161\n",
      "Brad             141\n",
      "Fletchers        126\n",
      "Name: SellerG, dtype: int64\n",
      "\n",
      "__________Postcode___________\n",
      "Number of unique values:  187\n",
      "MOST POPULAR: \n",
      "3073.0    143\n",
      "3020.0    125\n",
      "3040.0    123\n",
      "3121.0    110\n",
      "3058.0    106\n",
      "3165.0    104\n",
      "3163.0    104\n",
      "3012.0    100\n",
      "3046.0     98\n",
      "3072.0     96\n",
      "Name: Postcode, dtype: int64\n",
      "\n",
      "__________CouncilArea___________\n",
      "Number of unique values:  32\n",
      "MOST POPULAR: \n",
      "Boroondara       495\n",
      "Moreland         456\n",
      "Darebin          384\n",
      "Moonee Valley    375\n",
      "Glen Eira        339\n",
      "Stonnington      284\n",
      "Maribyrnong      279\n",
      "Yarra            265\n",
      "Banyule          240\n",
      "Port Phillip     235\n",
      "Name: CouncilArea, dtype: int64\n",
      "\n",
      "__________Propertycount___________\n",
      "Number of unique values:  289\n",
      "MOST POPULAR: \n",
      "21650.0    143\n",
      "8870.0     129\n",
      "10969.0    104\n",
      "14949.0     96\n",
      "14577.0     96\n",
      "11918.0     94\n",
      "9264.0      93\n",
      "11308.0     85\n",
      "10412.0     83\n",
      "10579.0     81\n",
      "Name: Propertycount, dtype: int64\n",
      "\n",
      "__________Landsize___________\n",
      "Number of unique values:  1131\n",
      "MOST POPULAR: \n",
      "0.0      746\n",
      "650.0     37\n",
      "697.0     22\n",
      "585.0     18\n",
      "649.0     18\n",
      "700.0     17\n",
      "696.0     16\n",
      "603.0     16\n",
      "597.0     16\n",
      "581.0     16\n",
      "Name: Landsize, dtype: int64\n",
      "\n"
     ]
    }
   ],
   "source": [
    "def count_popular(df,cat_features):\n",
    "    # Just to get an idea of how many different values every categorical feature has.\n",
    "    for f in cat_features:\n",
    "        print(\"__________\"+f+\"___________\")\n",
    "        print(\"Number of unique values: \",df.loc[:,f].nunique())\n",
    "        print(\"MOST POPULAR: \")\n",
    "        print(df.loc[:,f].value_counts().sort_values(ascending=False).head(10))\n",
    "        print()\n",
    "count_popular(train_set,cate)\n",
    "\n",
    "count_popular(train_set,[\"Landsize\"])"
   ]
  },
  {
   "cell_type": "markdown",
   "metadata": {},
   "source": [
    "## Log and Correlation:\n",
    "The below Cell has the intention of showing the correlation of different numerical features.\n",
    "We look at the correlation between:\n",
    "    The original values and the price\n",
    "    The Log of the original values and the price\n",
    "\n",
    "In both cases we use the Pearson's correlation coefficient.\n",
    "\n",
    "Looking at the results, our attention is caught by the big difference between the results in the BuildingArea and Landsize rows.\n",
    "We can see that the correlation in much bigger in the Log column, and for that reason I tried using both BuildingArea and Landsize \n",
    "Log as an input for the model with better results.\n",
    "\n",
    "The reason behind this is probably that both the BuildingArea and the Landsize have a non linear relation with the price, \n",
    "but a relation that once we apply the Log function, turns much more linear. \n",
    "Talking more clearly, the Log function turns *exponentials (non linear)* into *multipliers (linear)*."
   ]
  },
  {
   "cell_type": "code",
   "execution_count": 23,
   "metadata": {
    "scrolled": true
   },
   "outputs": [
    {
     "name": "stderr",
     "output_type": "stream",
     "text": [
      "C:\\Users\\Miguel\\Anaconda3\\lib\\site-packages\\pandas\\core\\series.py:726: RuntimeWarning: invalid value encountered in log\n",
      "  result = getattr(ufunc, method)(*inputs, **kwargs)\n"
     ]
    },
    {
     "data": {
      "text/html": [
       "<div>\n",
       "<style scoped>\n",
       "    .dataframe tbody tr th:only-of-type {\n",
       "        vertical-align: middle;\n",
       "    }\n",
       "\n",
       "    .dataframe tbody tr th {\n",
       "        vertical-align: top;\n",
       "    }\n",
       "\n",
       "    .dataframe thead th {\n",
       "        text-align: right;\n",
       "    }\n",
       "</style>\n",
       "<table border=\"1\" class=\"dataframe\">\n",
       "  <thead>\n",
       "    <tr style=\"text-align: right;\">\n",
       "      <th></th>\n",
       "      <th>Normal</th>\n",
       "      <th>Log</th>\n",
       "    </tr>\n",
       "  </thead>\n",
       "  <tbody>\n",
       "    <tr>\n",
       "      <th>Rooms</th>\n",
       "      <td>0.494941</td>\n",
       "      <td>0.577387</td>\n",
       "    </tr>\n",
       "    <tr>\n",
       "      <th>Price</th>\n",
       "      <td>1.000000</td>\n",
       "      <td>1.000000</td>\n",
       "    </tr>\n",
       "    <tr>\n",
       "      <th>Bathroom</th>\n",
       "      <td>0.459137</td>\n",
       "      <td>0.444170</td>\n",
       "    </tr>\n",
       "    <tr>\n",
       "      <th>Car</th>\n",
       "      <td>0.227902</td>\n",
       "      <td>0.162296</td>\n",
       "    </tr>\n",
       "    <tr>\n",
       "      <th>Landsize</th>\n",
       "      <td>0.048182</td>\n",
       "      <td>0.382378</td>\n",
       "    </tr>\n",
       "    <tr>\n",
       "      <th>BuildingArea</th>\n",
       "      <td>0.061963</td>\n",
       "      <td>0.451549</td>\n",
       "    </tr>\n",
       "    <tr>\n",
       "      <th>YearBuilt</th>\n",
       "      <td>-0.352157</td>\n",
       "      <td>-0.294558</td>\n",
       "    </tr>\n",
       "    <tr>\n",
       "      <th>Lattitude</th>\n",
       "      <td>-0.206769</td>\n",
       "      <td>NaN</td>\n",
       "    </tr>\n",
       "    <tr>\n",
       "      <th>Longtitude</th>\n",
       "      <td>0.199303</td>\n",
       "      <td>0.242404</td>\n",
       "    </tr>\n",
       "  </tbody>\n",
       "</table>\n",
       "</div>"
      ],
      "text/plain": [
       "                Normal       Log\n",
       "Rooms         0.494941  0.577387\n",
       "Price         1.000000  1.000000\n",
       "Bathroom      0.459137  0.444170\n",
       "Car           0.227902  0.162296\n",
       "Landsize      0.048182  0.382378\n",
       "BuildingArea  0.061963  0.451549\n",
       "YearBuilt    -0.352157 -0.294558\n",
       "Lattitude    -0.206769       NaN\n",
       "Longtitude    0.199303  0.242404"
      ]
     },
     "execution_count": 23,
     "metadata": {},
     "output_type": "execute_result"
    }
   ],
   "source": [
    "\n",
    "fe=['Price',\n",
    "    'Rooms',\n",
    "    'Bathroom',\n",
    "    'Car',\n",
    "    'Landsize',\n",
    "    'BuildingArea',\n",
    "    'YearBuilt',\n",
    "    'Lattitude',\n",
    "    'Longtitude']\n",
    "\n",
    "method = 'pearson'\n",
    "\n",
    "#Just for the desired columns/features\n",
    "corr=train_set.copy()\n",
    "drop_list=[x for x in corr.columns if x not in fe]\n",
    "corr=corr.drop(labels=drop_list,axis=\"columns\")\n",
    "corr_log = corr.copy()\n",
    "apply_log(corr_log,fe)\n",
    "\n",
    "#Log(values). Pearson correlation\n",
    "log=corr_log.corr(method=method).loc[\"Price\"]\n",
    "#Original values. Pearson correlation\n",
    "corr=corr.corr(method=method).loc[\"Price\"]\n",
    "\n",
    "correlaciones = pd.DataFrame({\n",
    "    \"Normal\":corr,\n",
    "    \"Log\":log\n",
    "})\n",
    "correlaciones"
   ]
  },
  {
   "cell_type": "code",
   "execution_count": 24,
   "metadata": {},
   "outputs": [],
   "source": [
    "nombre_columna=\"BuildingArea\"\n",
    "cleaned_train=train_set.copy()\n",
    "#apply_numerical_preprocessing(cleaned_train,[nombre_columna])\n",
    "\n",
    "\n",
    "df_log = train_set.copy()\n",
    "\n",
    "#fill_nan(df_log,[nombre_columna])\n",
    "#clean_outlayers(df_log,[nombre_columna])\n",
    "#clean_zeros_for_log(df_log,[nombre_columna])\n",
    "apply_log(df_log,[nombre_columna])\n",
    "minn=df_log[nombre_columna].min()\n",
    "maxx=df_log[nombre_columna].min()\n",
    "max_columna=cleaned_train[nombre_columna].quantile(q=0.99)"
   ]
  },
  {
   "cell_type": "code",
   "execution_count": 25,
   "metadata": {},
   "outputs": [
    {
     "name": "stdout",
     "output_type": "stream",
     "text": [
      "Correlación Pearson  BuildingArea : 0.06196311175467968\n"
     ]
    },
    {
     "data": {
      "text/plain": [
       "<seaborn.axisgrid.JointGrid at 0x132ef8fd248>"
      ]
     },
     "execution_count": 25,
     "metadata": {},
     "output_type": "execute_result"
    },
    {
     "data": {
      "image/png": "[encoded data removed]",
      "text/plain": [
       "<Figure size 432x432 with 3 Axes>"
      ]
     },
     "metadata": {},
     "output_type": "display_data"
    }
   ],
   "source": [
    "print(\"Correlación Pearson \",nombre_columna,\":\",cleaned_train.corr().loc[:,\"Price\"].loc[nombre_columna])\n",
    "sns.jointplot(data=cleaned_train, x=nombre_columna, y=\"Price\",xlim=(0,max_columna*1.1),ylim=(0,6000000),kind=\"reg\")"
   ]
  },
  {
   "cell_type": "code",
   "execution_count": 37,
   "metadata": {},
   "outputs": [
    {
     "name": "stdout",
     "output_type": "stream",
     "text": [
      "Correlación Pearson LOG  BuildingArea : 0.40404275560945835\n"
     ]
    },
    {
     "data": {
      "text/plain": [
       "<seaborn.axisgrid.JointGrid at 0x132f5ba3548>"
      ]
     },
     "execution_count": 37,
     "metadata": {},
     "output_type": "execute_result"
    },
    {
     "data": {
      "image/png": "[encoded data removed]",
      "text/plain": [
       "<Figure size 432x432 with 3 Axes>"
      ]
     },
     "metadata": {},
     "output_type": "display_data"
    }
   ],
   "source": [
    "print(\"Correlación Pearson LOG \",nombre_columna,\":\",df_log.corr().loc[:,\"Price\"].loc[nombre_columna])\n",
    "sns.jointplot(data=df_log, x=nombre_columna, y=\"Price\",xlim=(0,1),ylim=(0,6000000),kind=\"reg\",scatter_kws={'alpha':0.1})"
   ]
  },
  {
   "cell_type": "markdown",
   "metadata": {},
   "source": [
    "As a conclusion we can say that using the Log function we can achieve a better correlation between the input and the output.\n",
    "(See the above plots, the blue line is a linear regression. In the second plot we can percieve that the line is a better aproximation of the values)."
   ]
  },
  {
   "cell_type": "markdown",
   "metadata": {},
   "source": [
    "## The Final Model:"
   ]
  },
  {
   "cell_type": "code",
   "execution_count": null,
   "metadata": {},
   "outputs": [],
   "source": [
    "# KNN model\n",
    "\n",
    "train_set_run = train_set.copy()\n",
    "\n",
    "# Selected features:\n",
    "num_features = ['Rooms',\"Bathroom\",\"Lattitude\",\"Longtitude\"]\n",
    "log_features = ['Landsize']\n",
    "cat_features = ['Type']\n",
    "\n",
    "#Trying with selected dummies.\n",
    "# selected_dummies=dummies_prueba # Only if using a selection of categorical values\n",
    "\n",
    "# PREPROCESSING THE FEATURES:\n",
    "\n",
    "# Numerical features\n",
    "apply_numerical_preprocessing(train_set_run,num_features)\n",
    "apply_numerical_preprocessing(test_set,num_features)\n",
    "\n",
    "# Log features (Also numerical but with different treatment)\n",
    "apply_log(train_set_run,log_features)\n",
    "apply_log(test_set,log_features)\n",
    "\n",
    "# Categorical features\n",
    "\"\"\"\n",
    "Trying with selected dummies.\n",
    "This code is the one which should be used in case of trying to put only the most interesting values of the categorical columns.\n",
    "\n",
    "clean_dummies(train_set_run,selected_dummies)\n",
    "clean_dummies(test_set,selected_dummies)\n",
    "for sd in selected_dummies:\n",
    "    if not sd[0] in cat_features:\n",
    "        cat_features.append(sd[0])\n",
    "\"\"\"\n",
    "train_set_run = make_dummies(train_set_run,cat_features)\n",
    "test_set = make_dummies(test_set,cat_features)\n",
    "cat_dummies  = get_dummies_names(train_set_run,cat_features)\n",
    "\n",
    "\n",
    "\n",
    "# Final features\n",
    "\n",
    "features = num_features + cat_dummies + log_features\n",
    "total_number_features=len(features)\n",
    "print(\"Number of features: \",total_number_features)\n",
    "## DEFINE YOUR FEATURES\n",
    "X = train_set_run[features]\n",
    "y = train_set[['Price']]\n",
    "\n",
    "## the model\n",
    "# KNeighborsRegressor\n",
    "from sklearn import neighbors\n",
    "n_neighbors = 3 # you can modify this paramenter (ONLY THIS ONE!!!)\n",
    "model = neighbors.KNeighborsRegressor(n_neighbors)\n",
    "\n",
    "## fit the model\n",
    "model.fit(X, y)\n",
    "\n",
    "## predict training set\n",
    "y_pred = model.predict(X)\n",
    "\n",
    "## Evaluate the model and plot it\n",
    "from sklearn.metrics import mean_squared_error, r2_score\n",
    "print(\"----- EVALUATION ON TRAIN SET ------\")\n",
    "rmse=np.sqrt(mean_squared_error(y, y_pred))\n",
    "print(\"RMSE\",rmse)\n",
    "r2=r2_score(y, y_pred)\n",
    "print(\"R^2: \",r2)\n",
    "\n",
    "# To get the correct shape I had to use .ravel() \n",
    "plot_y      = pd.DataFrame.to_numpy(y).ravel()\n",
    "plot_y_pred = y_pred.ravel()\n",
    "\n",
    "result = pd.DataFrame({\"Price\":plot_y,\n",
    "                      \"Predicted Price\":plot_y_pred})\n",
    "\n",
    "# I prefer this plot.\n",
    "sns.jointplot(data=result, x=\"Price\", y=\"Predicted Price\",xlim=(0,9000000),ylim=(0,9000000))#,kind=\"reg\")\n",
    "print(result.corr())\n",
    "\"\"\"\n",
    "plt.scatter(y, y_pred)\n",
    "plt.xlabel('Price')\n",
    "plt.ylabel('Predicted price');\n",
    "plt.show()\n",
    "\"\"\"\n",
    "## predict the test set and generate the submission file\n",
    "\n",
    "X_test = test_set[features]\n",
    "y_pred = model.predict(X_test)\n",
    "\n",
    "df_output = pd.DataFrame(y_pred)\n",
    "df_output = df_output.reset_index()\n",
    "df_output.columns = ['index','Price']\n",
    "\n",
    "#df_output.to_csv('/kaggle/input/mlub-housing-house-prediction/sampleSubmission.csv',index=False)\n"
   ]
  },
  {
   "cell_type": "markdown",
   "metadata": {},
   "source": [
    "#### Explain the choosed model and why you think that is is the best"
   ]
  },
  {
   "cell_type": "markdown",
   "metadata": {},
   "source": [
    "I have chosen the Knn model since I tried both it gave best results and it had more sense for me because of the disposition of the data.\n",
    "\n",
    "I think the price of a house is usually not as close to a sum of variables as it is from something similar to the other houses with those characteristics, location etc. I think that is the reason why the Knn works better in this problem.\n",
    "\n",
    "The features I have chosen are partly because they had sense, and partly because I have tried different combinations to see if the results got better. The final improvements were achieved by removing features instead of adding them.\n",
    "\n",
    "Another curios thing is that I did not use the BuildingArea in the final model. There are some reasons for this:\n",
    "    1. Both BuildingArea and Landsize gave a similar information for problem, and they had a really close correlation between them. The problem with two features with a lot of correlation between them is that they usually do not give more information, but they increase the complexity of the model, leading to a worst result.\n",
    "    2. There were a lot of rows without a BuildingArea (2542 NaN's out of 5432 rows), and that was really bad for the model even though intuitively everybody would say that the building area of a house is usually a very important feature. In opposition, the Landsize column was filled without any nan, and that made the results better even though there were a lot of rows with Landsize == 0.\n",
    "\n",
    "Something similar happened with the features Rooms and Bedroom2, they were too correlated to work well toghether.\n",
    "\n",
    "I selected Lattitude and Longtitude because close houses usually are in zones with similar price.\n",
    "\n",
    "I selected Type because it worked pretty well even though it is a pretty simple feature. \n",
    "\n",
    "As a conclusion I think keeping things simple in this problem has been a good \"direction\", since too much complexity did not make any better."
   ]
  },
  {
   "cell_type": "code",
   "execution_count": null,
   "metadata": {},
   "outputs": [],
   "source": []
  },
  {
   "cell_type": "code",
   "execution_count": null,
   "metadata": {},
   "outputs": [],
   "source": []
  },
  {
   "cell_type": "code",
   "execution_count": null,
   "metadata": {},
   "outputs": [],
   "source": []
  }
 ],
 "metadata": {
  "kernelspec": {
   "display_name": "Python 3",
   "language": "python",
   "name": "python3"
  },
  "language_info": {
   "codemirror_mode": {
    "name": "ipython",
    "version": 3
   },
   "file_extension": ".py",
   "mimetype": "text/x-python",
   "name": "python",
   "nbconvert_exporter": "python",
   "pygments_lexer": "ipython3",
   "version": "3.7.9"
  }
 },
 "nbformat": 4,
 "nbformat_minor": 4
}
