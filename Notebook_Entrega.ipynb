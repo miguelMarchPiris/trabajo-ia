{
 "cells": [
  {
   "cell_type": "markdown",
   "metadata": {},
   "source": [
    "## Primero de todo los imports"
   ]
  },
  {
   "cell_type": "code",
   "execution_count": 177,
   "metadata": {},
   "outputs": [],
   "source": [
    "import sklearn\n",
    "import pandas as pd\n",
    "import numpy as np\n",
    "import matplotlib.pyplot as plt\n",
    "\n",
    "import seaborn as sns\n",
    "\n",
    "np.random.seed(100)\n",
    "\n",
    "\n",
    "# Creamos un directiorio para la salida\n",
    "import os\n",
    "if not os.path.exists('output'):\n",
    "    os.makedirs('output')\n",
    "\n",
    "# KNN\n",
    "from sklearn import neighbors    \n",
    "# Linear Regression\n",
    "from sklearn.linear_model import LinearRegression\n",
    "# Random Forest\n",
    "from sklearn.ensemble import RandomForestRegressor\n",
    "\n",
    "# Para hacer test y train\n",
    "from sklearn.model_selection import StratifiedShuffleSplit\n",
    "from sklearn.model_selection import train_test_split\n",
    "\n",
    "# Para ajustar los hiper-parámetros\n",
    "from sklearn.model_selection import GridSearchCV\n",
    "\n",
    "# Preproceso\n",
    "from sklearn.preprocessing import OrdinalEncoder\n",
    "from sklearn.compose import ColumnTransformer\n",
    "from sklearn.base import BaseEstimator, TransformerMixin\n",
    "from sklearn.impute import SimpleImputer\n",
    "from sklearn.pipeline import Pipeline\n",
    "from sklearn.preprocessing import StandardScaler\n",
    "from sklearn.preprocessing import FunctionTransformer\n",
    "from sklearn.preprocessing import OneHotEncoder\n",
    "\n",
    "# Función de error\n",
    "from sklearn.metrics import mean_squared_error, r2_score"
   ]
  },
  {
   "cell_type": "code",
   "execution_count": null,
   "metadata": {},
   "outputs": [],
   "source": []
  },
  {
   "cell_type": "markdown",
   "metadata": {},
   "source": [
    "# Los datos"
   ]
  },
  {
   "cell_type": "code",
   "execution_count": 166,
   "metadata": {},
   "outputs": [
    {
     "name": "stdout",
     "output_type": "stream",
     "text": [
      "Número de casas: 5432  Número de características: 21\n",
      "\n",
      " Características numéricas: \n",
      "  ['Rooms', 'Distance', 'Postcode', 'Bedroom2', 'Bathroom', 'Car', 'Landsize', 'BuildingArea', 'YearBuilt', 'Lattitude', 'Longtitude', 'Propertycount']\n",
      "Características categóricas: \n",
      " ['Suburb', 'Address', 'Type', 'Method', 'SellerG', 'Date', 'CouncilArea', 'Regionname']\n"
     ]
    }
   ],
   "source": [
    "# Cargamos el dataset\n",
    "housing = pd.read_csv('dataset/housing-snapshot/train_set.csv',index_col=0) \n",
    "print(\"Número de casas:\",housing.shape[0],\" Número de características:\", housing.shape[1])\n",
    "housing_num = X_train_rf.select_dtypes(exclude=[np.object]).columns\n",
    "housing_cat = X_train_rf.select_dtypes(include=[np.object]).columns\n",
    "print(\"\\n Características numéricas: \\n \", list(housing_num))\n",
    "\n",
    "print(\"Características categóricas: \\n\", list(housing_cat))"
   ]
  },
  {
   "cell_type": "code",
   "execution_count": 179,
   "metadata": {},
   "outputs": [],
   "source": [
    "\n",
    "# Ponemos \"Postcode\" a categorical, dado que que no es numérica.\n",
    "housing['Postcode'] = pd.Categorical(housing.Postcode)\n",
    "housing_num = X_train_rf.select_dtypes(exclude=[np.object]).columns\n",
    "housing_cat = X_train_rf.select_dtypes(include=[np.object]).columns\n",
    "# Dividimos haciendo uso de la estratificación para tener una buena proporción.\n",
    "housing[\"price_aux\"] = pd.cut(housing[\"Price\"],\n",
    "                               bins=[0., 500000, 1000000, 1500000, 2000000., np.inf],\n",
    "                               labels=[1, 2, 3, 4, 5])\n",
    "\n",
    "split = StratifiedShuffleSplit(n_splits=1, test_size=0.2, random_state=42)\n",
    "for train_index, test_index in split.split(housing, housing[\"price_aux\"]):\n",
    "    train_set = housing.loc[train_index]\n",
    "    test_set = housing.loc[test_index]\n",
    "\n",
    "# Quitamos la etiqueta price_cat\n",
    "train_set.drop(\"price_aux\", axis=1, inplace=True)\n",
    "test_set.drop(\"price_aux\", axis=1, inplace=True)\n",
    "housing.drop(\"price_aux\", axis=1, inplace=True)\n",
    "\n",
    "# El con el train probaremos los modelos.\n",
    "X_train = train_set.drop(\"Price\", axis=1).copy()\n",
    "y_train = train_set[\"Price\"].copy()\n",
    "# El test no lo tenemos que tocar hasta el final de todo.\n",
    "X_test = test_set.drop(\"Price\", axis=1).copy()\n",
    "y_test = test_set[\"Price\"].copy()\n"
   ]
  },
  {
   "cell_type": "markdown",
   "metadata": {},
   "source": [
    "## Las funciones de las pipelines"
   ]
  },
  {
   "cell_type": "code",
   "execution_count": 180,
   "metadata": {},
   "outputs": [],
   "source": [
    "## create a function to replace 0 by NaN\n",
    "def replace_0_2_NaN(data):\n",
    "    data[data == 0] = np.nan\n",
    "    return data\n",
    "\n",
    "\n",
    "# column index\n",
    "Rooms_ix, Bedroom2_ix, Bathroom_ix, BuildingArea_ix = 0, 2, 3, 6\n",
    "\n",
    "class CombinedAttributesAdder(BaseEstimator, TransformerMixin):\n",
    "    def __init__(self, add_bedrooms_per_room = True): # no *args or **kargs\n",
    "        self.add_bedrooms_per_room = add_bedrooms_per_room\n",
    "        \n",
    "    def fit(self, X, y=None):\n",
    "        return self  # nothing else to do\n",
    "    \n",
    "    def transform(self, X):\n",
    "        rooms_per_building_area = X[:, Rooms_ix] / (1.0 +X[:, BuildingArea_ix])# add 1 to avoid 0 division\n",
    "        if self.add_bedrooms_per_room:\n",
    "            bedrooms_per_room = X[:, Bedroom2_ix] / (1.0 + X[:, Bathroom_ix]) # add 1 to avoid 0 division\n",
    "            return np.c_[X, rooms_per_building_area, bedrooms_per_room]\n",
    "        else:\n",
    "            return np.c_[X, rooms_per_building_area]\n"
   ]
  },
  {
   "cell_type": "markdown",
   "metadata": {},
   "source": [
    "# Los modelos\n",
    "\n",
    "Vamos a tratar unos modelos de machine learning y en concreto haremos uso de la famosa librería Sklearn. En cada uno de los distintos modelos vamos a mostrar primero una implementación naíf y luego vamos a hacer un preproceso de datos personalizado, una feature selection y cuando sea posible una optimización de los hiper-parámetros para conseguir los mejores resultados posibles."
   ]
  },
  {
   "cell_type": "markdown",
   "metadata": {},
   "source": [
    "# 1. KNN"
   ]
  },
  {
   "cell_type": "code",
   "execution_count": 181,
   "metadata": {},
   "outputs": [],
   "source": [
    "X_train_knn = X_train.copy()\n",
    "y_train_knn = y_train.copy()"
   ]
  },
  {
   "cell_type": "code",
   "execution_count": null,
   "metadata": {},
   "outputs": [],
   "source": []
  },
  {
   "cell_type": "markdown",
   "metadata": {},
   "source": [
    "# 2. Regresión Lineal"
   ]
  },
  {
   "cell_type": "code",
   "execution_count": 182,
   "metadata": {},
   "outputs": [],
   "source": [
    "X_train_lr = X_train.copy()\n",
    "y_train_lr = y_train.copy()"
   ]
  },
  {
   "cell_type": "code",
   "execution_count": null,
   "metadata": {},
   "outputs": [],
   "source": []
  },
  {
   "cell_type": "markdown",
   "metadata": {},
   "source": [
    "# 3. Random Forest"
   ]
  },
  {
   "cell_type": "markdown",
   "metadata": {},
   "source": [
    "Primero haremos una implementación naíf del modelo:"
   ]
  },
  {
   "cell_type": "code",
   "execution_count": 184,
   "metadata": {},
   "outputs": [
    {
     "name": "stdout",
     "output_type": "stream",
     "text": [
      "RMSE 119540.0112525515\n",
      "R^2:  0.9591052486186264\n"
     ]
    },
    {
     "data": {
      "text/plain": [
       "<seaborn.axisgrid.JointGrid at 0x213f0978548>"
      ]
     },
     "execution_count": 184,
     "metadata": {},
     "output_type": "execute_result"
    },
    {
     "data": {
      "image/png": "[encoded data removed]",
      "text/plain": [
       "<Figure size 432x432 with 3 Axes>"
      ]
     },
     "metadata": {
      "needs_background": "light"
     },
     "output_type": "display_data"
    }
   ],
   "source": [
    "X_train_rf = X_train.copy()\n",
    "y_train_rf = y_train.copy()\n",
    "\n",
    "\n",
    "\n",
    "model = RandomForestRegressor(random_state=100)\n",
    "\n",
    "\n",
    "\n",
    "num_attribs = housing_num\n",
    "\n",
    "num_pipeline = Pipeline([\n",
    "        ('imputer', SimpleImputer(strategy=\"median\")),\n",
    "])\n",
    "\n",
    "full_naif_pipeline = ColumnTransformer([\n",
    "        (\"num\", num_pipeline, num_attribs),\n",
    "])\n",
    "\n",
    "\n",
    "\n",
    "X_naif_num = full_naif_pipeline.fit_transform(X_train_rf,y_train_rf)\n",
    "\n",
    "model.fit(X_naif_num, y_train_rf)\n",
    "y_pred_rf=model.predict(X_naif_num)\n",
    "\n",
    "rmse=np.sqrt(mean_squared_error(y_pred_rf, y_train_rf))\n",
    "print(\"RMSE\",rmse)\n",
    "r2=r2_score(y_pred_rf, y_train_rf)\n",
    "print(\"R^2: \",r2)\n",
    "\n",
    "result = pd.DataFrame({\"Price\":y_train_rf,\n",
    "                      \"Predicted Price\":y_pred_rf})\n",
    "\n",
    "# I prefer this plot.\n",
    "sns.jointplot(data=result, x=\"Price\", y=\"Predicted Price\",xlim=(0,9000000),ylim=(0,9000000))#,kind=\"reg\")"
   ]
  },
  {
   "cell_type": "code",
   "execution_count": null,
   "metadata": {},
   "outputs": [],
   "source": []
  },
  {
   "cell_type": "code",
   "execution_count": null,
   "metadata": {},
   "outputs": [],
   "source": []
  },
  {
   "cell_type": "code",
   "execution_count": null,
   "metadata": {},
   "outputs": [],
   "source": []
  },
  {
   "cell_type": "code",
   "execution_count": 156,
   "metadata": {},
   "outputs": [
    {
     "data": {
      "text/plain": [
       "<4345x518 sparse matrix of type '<class 'numpy.float64'>'\n",
       "\twith 86900 stored elements in Compressed Sparse Row format>"
      ]
     },
     "execution_count": 156,
     "metadata": {},
     "output_type": "execute_result"
    }
   ],
   "source": [
    "\n",
    "\n",
    "#Para las columnas con muchos ceros sin sentido. A las que además se les aplicará la función logaritmo\n",
    "num0_pipeline = Pipeline([\n",
    "        ('zeros2NaN',FunctionTransformer(func = replace_0_2_NaN,validate=False)),\n",
    "        ('imputer', SimpleImputer(strategy=\"median\")),\n",
    "        ('log',FunctionTransformer(np.log1p, validate=True)),\n",
    "        ('std_scaler', StandardScaler()),\n",
    "    ])\n",
    "#Para las otras columnas numéricas\n",
    "num_pipeline = Pipeline([\n",
    "        ('imputer', SimpleImputer(strategy=\"median\")),\n",
    "        ('attribs_adder', CombinedAttributesAdder()),\n",
    "        ('std_scaler', StandardScaler()),\n",
    "    ])\n",
    "#Para las variables categóricas. Principalmente utilizaremos el OneHotEncoder\n",
    "cat_pipeline = Pipeline([\n",
    "        ('imputer', SimpleImputer(strategy=\"constant\",fill_value='Unknown')),\n",
    "        ('one_hot_encoder', OneHotEncoder(handle_unknown='ignore')),\n",
    "    ])\n",
    "\n",
    "\"\"\"\n",
    "Columnas numéricas:  ['Rooms', 'Price', 'Distance', 'Bedroom2', 'Bathroom', 'Car', \n",
    "'Landsize', 'BuildingArea', 'YearBuilt', 'Lattitude', 'Longtitude', 'Propertycount']\n",
    "\n",
    "Columnas categóricas:  ['Suburb', 'Address', 'Type', 'Method', 'SellerG', 'Date', 'CouncilArea', 'Regionname']\n",
    "\"\"\"\n",
    "\n",
    "#Estas son las columnas seleccionadas en el proyecto base para cada pipeline.\n",
    "num_attribs0 = ['Landsize','BuildingArea']\n",
    "num_attribs1 = list(housing_num)\n",
    "cat_attribs = [\"CouncilArea\",'Type','Suburb','Postcode']\n",
    "\n",
    "#Creamos la \"full_pipeline\", es decir la pipeline que engloba a todas las otras.\n",
    "full_pipeline = ColumnTransformer([\n",
    "        (\"num0\", num0_pipeline, num_attribs0),\n",
    "        (\"num1\", num_pipeline, num_attribs1),\n",
    "        (\"cat\", cat_pipeline, cat_attribs),\n",
    "])\n",
    "\n",
    "#Preprocesamos los datos utilizando la \"full_pipeline\"\n",
    "X_train_prepared = full_pipeline.fit_transform(X_train_rf,y_train_rf)\n",
    "X_train_prepared"
   ]
  },
  {
   "cell_type": "code",
   "execution_count": 147,
   "metadata": {},
   "outputs": [],
   "source": [
    "model = RandomForestRegressor(random_state=100)"
   ]
  },
  {
   "cell_type": "code",
   "execution_count": 148,
   "metadata": {},
   "outputs": [
    {
     "name": "stdout",
     "output_type": "stream",
     "text": [
      "Best trained model:\n",
      "RandomForestRegressor(max_features=128, n_estimators=82, random_state=100)\n",
      "Best parameters:\n",
      "{'max_features': 128, 'n_estimators': 82}\n",
      "Best Score\n",
      "550.5597326100665 303116.01917166787\n"
     ]
    }
   ],
   "source": [
    "\n",
    "rf_param_grid = {\n",
    "                'max_features': range(8,168,60),\n",
    "                'n_estimators': [82],\n",
    "                    #'max_depth': [None],\n",
    "                   #'bootstrap': [False],\n",
    "                #\"min_samples_split\":[2,3],\n",
    "                #\"min_samples_leaf\":[1,2],\n",
    "}\n",
    "rf_grid_search = GridSearchCV(model, param_grid=rf_param_grid, cv=5,\n",
    "                           scoring='neg_root_mean_squared_error',\n",
    "                           return_train_score=True,n_jobs=-1)\n",
    "rf_grid_search.fit(X_train_prepared, y_train)\n",
    "\n",
    "print(\"Best trained model:\")\n",
    "print(rf_grid_search.best_estimator_)\n",
    "print(\"Best parameters:\")\n",
    "print(rf_grid_search.best_params_)\n",
    "print(\"Best Score\")\n",
    "print(np.sqrt(-rf_grid_search.best_score_),-rf_grid_search.best_score_)"
   ]
  },
  {
   "cell_type": "code",
   "execution_count": null,
   "metadata": {},
   "outputs": [],
   "source": []
  },
  {
   "cell_type": "code",
   "execution_count": null,
   "metadata": {},
   "outputs": [],
   "source": []
  },
  {
   "cell_type": "code",
   "execution_count": null,
   "metadata": {},
   "outputs": [],
   "source": []
  },
  {
   "cell_type": "code",
   "execution_count": null,
   "metadata": {},
   "outputs": [],
   "source": []
  },
  {
   "cell_type": "code",
   "execution_count": null,
   "metadata": {},
   "outputs": [],
   "source": []
  },
  {
   "cell_type": "code",
   "execution_count": null,
   "metadata": {},
   "outputs": [],
   "source": []
  },
  {
   "cell_type": "code",
   "execution_count": null,
   "metadata": {},
   "outputs": [],
   "source": []
  },
  {
   "cell_type": "code",
   "execution_count": null,
   "metadata": {},
   "outputs": [],
   "source": []
  },
  {
   "cell_type": "code",
   "execution_count": null,
   "metadata": {},
   "outputs": [],
   "source": []
  },
  {
   "cell_type": "code",
   "execution_count": null,
   "metadata": {},
   "outputs": [],
   "source": []
  },
  {
   "cell_type": "code",
   "execution_count": null,
   "metadata": {},
   "outputs": [],
   "source": []
  },
  {
   "cell_type": "code",
   "execution_count": null,
   "metadata": {},
   "outputs": [],
   "source": []
  },
  {
   "cell_type": "code",
   "execution_count": null,
   "metadata": {},
   "outputs": [],
   "source": []
  },
  {
   "cell_type": "code",
   "execution_count": null,
   "metadata": {},
   "outputs": [],
   "source": []
  },
  {
   "cell_type": "code",
   "execution_count": null,
   "metadata": {},
   "outputs": [],
   "source": []
  },
  {
   "cell_type": "code",
   "execution_count": null,
   "metadata": {},
   "outputs": [],
   "source": []
  },
  {
   "cell_type": "code",
   "execution_count": null,
   "metadata": {},
   "outputs": [],
   "source": []
  },
  {
   "cell_type": "code",
   "execution_count": null,
   "metadata": {},
   "outputs": [],
   "source": []
  }
 ],
 "metadata": {
  "kernelspec": {
   "display_name": "Python 3",
   "language": "python",
   "name": "python3"
  },
  "language_info": {
   "codemirror_mode": {
    "name": "ipython",
    "version": 3
   },
   "file_extension": ".py",
   "mimetype": "text/x-python",
   "name": "python",
   "nbconvert_exporter": "python",
   "pygments_lexer": "ipython3",
   "version": "3.7.9"
  }
 },
 "nbformat": 4,
 "nbformat_minor": 4
}
